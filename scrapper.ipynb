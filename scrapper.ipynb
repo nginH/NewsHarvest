{
 "cells": [
  {
   "cell_type": "code",
   "execution_count": 10,
   "metadata": {},
   "outputs": [
    {
     "name": "stderr",
     "output_type": "stream",
     "text": [
      "INFO:pyppeteer.launcher:Browser listening on: ws://127.0.0.1:58569/devtools/browser/5c1ae045-647d-4158-8321-1e2abbd252cc\n",
      "INFO:root:Going to URL: https://finance.yahoo.com/videos/\n",
      "INFO:pyppeteer.connection:connection closed\n",
      "ERROR:root:Error scraping https://finance.yahoo.com/videos/: Navigation Timeout Exceeded: 120000 ms exceeded.\n",
      "INFO:pyppeteer.launcher:terminate chrome process...\n"
     ]
    },
    {
     "ename": "PageError",
     "evalue": "Protocol Error: Connection Closed. Most likely the page has been closed.",
     "output_type": "error",
     "traceback": [
      "\u001b[0;31m---------------------------------------------------------------------------\u001b[0m",
      "\u001b[0;31mPageError\u001b[0m                                 Traceback (most recent call last)",
      "Cell \u001b[0;32mIn[10], line 57\u001b[0m\n\u001b[1;32m     55\u001b[0m \u001b[38;5;66;03m# Running the async main function\u001b[39;00m\n\u001b[1;32m     56\u001b[0m \u001b[38;5;28;01mif\u001b[39;00m \u001b[38;5;18m__name__\u001b[39m \u001b[38;5;241m==\u001b[39m \u001b[38;5;124m\"\u001b[39m\u001b[38;5;124m__main__\u001b[39m\u001b[38;5;124m\"\u001b[39m:\n\u001b[0;32m---> 57\u001b[0m    \u001b[38;5;28;01mawait\u001b[39;00m main()\n",
      "Cell \u001b[0;32mIn[10], line 47\u001b[0m, in \u001b[0;36mmain\u001b[0;34m()\u001b[0m\n\u001b[1;32m     45\u001b[0m browser \u001b[38;5;241m=\u001b[39m \u001b[38;5;28;01mawait\u001b[39;00m pyppeteer\u001b[38;5;241m.\u001b[39mlaunch(headless\u001b[38;5;241m=\u001b[39m\u001b[38;5;28;01mTrue\u001b[39;00m)\n\u001b[1;32m     46\u001b[0m \u001b[38;5;28;01mtry\u001b[39;00m:\n\u001b[0;32m---> 47\u001b[0m     data \u001b[38;5;241m=\u001b[39m \u001b[38;5;28;01mawait\u001b[39;00m scrape_page(browser, url)\n\u001b[1;32m     48\u001b[0m     \u001b[38;5;28;01mif\u001b[39;00m data:\n\u001b[1;32m     49\u001b[0m         \u001b[38;5;28mprint\u001b[39m(json\u001b[38;5;241m.\u001b[39mdumps(data, indent\u001b[38;5;241m=\u001b[39m\u001b[38;5;241m4\u001b[39m))\n",
      "Cell \u001b[0;32mIn[10], line 40\u001b[0m, in \u001b[0;36mscrape_page\u001b[0;34m(browser, url, retries, delay)\u001b[0m\n\u001b[1;32m     38\u001b[0m     \u001b[38;5;28;01mreturn\u001b[39;00m \u001b[38;5;28;01mNone\u001b[39;00m\n\u001b[1;32m     39\u001b[0m \u001b[38;5;28;01mfinally\u001b[39;00m:\n\u001b[0;32m---> 40\u001b[0m     \u001b[38;5;28;01mawait\u001b[39;00m page\u001b[38;5;241m.\u001b[39mclose()\n",
      "File \u001b[0;32m/Library/Frameworks/Python.framework/Versions/3.12/lib/python3.12/site-packages/pyppeteer/page.py:1432\u001b[0m, in \u001b[0;36mPage.close\u001b[0;34m(self, options, **kwargs)\u001b[0m\n\u001b[1;32m   1430\u001b[0m conn \u001b[38;5;241m=\u001b[39m \u001b[38;5;28mself\u001b[39m\u001b[38;5;241m.\u001b[39m_client\u001b[38;5;241m.\u001b[39m_connection\n\u001b[1;32m   1431\u001b[0m \u001b[38;5;28;01mif\u001b[39;00m conn \u001b[38;5;129;01mis\u001b[39;00m \u001b[38;5;28;01mNone\u001b[39;00m:\n\u001b[0;32m-> 1432\u001b[0m     \u001b[38;5;28;01mraise\u001b[39;00m PageError(\u001b[38;5;124m'\u001b[39m\u001b[38;5;124mProtocol Error: Connection Closed. \u001b[39m\u001b[38;5;124m'\u001b[39m \u001b[38;5;124m'\u001b[39m\u001b[38;5;124mMost likely the page has been closed.\u001b[39m\u001b[38;5;124m'\u001b[39m)\n\u001b[1;32m   1433\u001b[0m runBeforeUnload \u001b[38;5;241m=\u001b[39m \u001b[38;5;28mbool\u001b[39m(options\u001b[38;5;241m.\u001b[39mget(\u001b[38;5;124m'\u001b[39m\u001b[38;5;124mrunBeforeUnload\u001b[39m\u001b[38;5;124m'\u001b[39m))\n\u001b[1;32m   1434\u001b[0m \u001b[38;5;28;01mif\u001b[39;00m runBeforeUnload:\n",
      "\u001b[0;31mPageError\u001b[0m: Protocol Error: Connection Closed. Most likely the page has been closed."
     ]
    }
   ],
   "source": [
    "import json\n",
    "import asyncio\n",
    "import logging\n",
    "from tqdm import tqdm\n",
    "import pyppeteer \n",
    "import nest_asyncio\n",
    "\n",
    "nest_asyncio.apply()\n",
    "\n",
    "logging.basicConfig(level=logging.INFO)\n",
    "\n",
    "# Function to scrape the title from the URL\n",
    "async def scrape_page(browser, url, retries=3, delay=5):\n",
    "    try:\n",
    "        page = await browser.newPage()\n",
    "        await page.setUserAgent(\n",
    "            \"Mozilla/5.0 (Windows NT 10.0; Win64; x64) AppleWebKit/537.36 (KHTML, like Gecko) Chrome/91.0.4472.124 Safari/537.36\"\n",
    "        )\n",
    "\n",
    "        logging.info(f\"Going to URL: {url}\")\n",
    "        await page.goto(url, {\"waitUntil\": \"load\", \"timeout\": 120000})\n",
    "#class=\"itemBtn stretched-box yf-cex541\"\n",
    "        # Extracting title from the page\n",
    "        data = await page.evaluate('''() => {\n",
    "            const details = {};\n",
    "            const titleElement = document.querySelector('h1');\n",
    "            details.title = titleElement ? titleElement.innerText : 'No title found';\n",
    "            details.url = window.location.href;\n",
    "            details.content = document.querySelector('yf-cex541').innerText;\n",
    "            return details;\n",
    "        }''')\n",
    "\n",
    "        return data\n",
    "\n",
    "    except Exception as e:\n",
    "        logging.error(f\"Error scraping {url}: {e}\")\n",
    "        return None\n",
    "    finally:\n",
    "        await page.close()\n",
    "\n",
    "# Main function to manage the scraping task\n",
    "async def main():\n",
    "    url = \"https://finance.yahoo.com/videos/\"\n",
    "    browser = await pyppeteer.launch(headless=True)\n",
    "    try:\n",
    "        data = await scrape_page(browser, url)\n",
    "        if data:\n",
    "            print(json.dumps(data, indent=4))\n",
    "        else:\n",
    "            print(\"Failed to scrape data.\")\n",
    "    finally:\n",
    "        await browser.close()\n",
    "\n",
    "# Running the async main function\n",
    "if __name__ == \"__main__\":\n",
    "   await main()\n"
   ]
  },
  {
   "cell_type": "code",
   "execution_count": null,
   "metadata": {},
   "outputs": [],
   "source": []
  }
 ],
 "metadata": {
  "kernelspec": {
   "display_name": "Python 3",
   "language": "python",
   "name": "python3"
  },
  "language_info": {
   "codemirror_mode": {
    "name": "ipython",
    "version": 3
   },
   "file_extension": ".py",
   "mimetype": "text/x-python",
   "name": "python",
   "nbconvert_exporter": "python",
   "pygments_lexer": "ipython3",
   "version": "3.12.4"
  }
 },
 "nbformat": 4,
 "nbformat_minor": 2
}
